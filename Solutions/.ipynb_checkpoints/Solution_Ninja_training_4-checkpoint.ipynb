{
 "cells": [
  {
   "cell_type": "markdown",
   "metadata": {},
   "source": [
    "# Solutions Ninja Training 4"
   ]
  },
  {
   "cell_type": "markdown",
   "metadata": {},
   "source": [
    "* [Task 1](#n4t1)\n",
    "* [Task 2](#n4t2)\n",
    "* [Task 3](#n4t3)"
   ]
  },
  {
   "cell_type": "markdown",
   "metadata": {},
   "source": [
    "## Task 1 <a name=\"n4t1\"></a>\n",
    "\n",
    "Conduct some research on the bernoulli and binomial distribution."
   ]
  },
  {
   "cell_type": "markdown",
   "metadata": {},
   "source": [
    "**Solution :**"
   ]
  },
  {
   "cell_type": "markdown",
   "metadata": {},
   "source": [
    "The Bernoulli distribution with parameter $p$ is a discrete probability distribution of a random variable which takes the value 1 with probability $p$ and the value 0 with probability $1 − p$, that is, the probability distribution of any single experiment that asks a yes or no question.\n",
    "\n",
    "If one sets $p =1/2$, one would have a model for a coin toss. \n",
    "\n",
    "* mean: $\\mu = p$.\n",
    "* variance: $\\sigma^2 = p(1-p)$."
   ]
  },
  {
   "cell_type": "markdown",
   "metadata": {},
   "source": [
    "The binomial distribution with parameters $n$ and $p$ is the discrete probability distribution of the number of successes in a sequence of $n$ independent experiments, each asking a yes or no question. \n",
    "\n",
    "So if one sets $p= 1/2$ the binomial distribution models $n$ coin tosses.\n",
    "\n",
    "* mean: $\\mu = np$.\n",
    "* variance: $\\sigma^2 = np(1-p)$."
   ]
  },
  {
   "cell_type": "markdown",
   "metadata": {},
   "source": [
    "## Task 2 <a name=\"n4t2\"></a>\n",
    "\n",
    "Write a function that returns the probability that 4 out of 10 tosses of a coin are heads.\n",
    "This is actually a very hard question so make sure you did the research from Task 1."
   ]
  },
  {
   "cell_type": "markdown",
   "metadata": {},
   "source": [
    "**Solution :**"
   ]
  },
  {
   "cell_type": "markdown",
   "metadata": {},
   "source": [
    "From our research above we know that we should use a binomial distribution with parameters $n=10$ and $p=1/2$.\n",
    "\n",
    "My solution will be more general than what is required. The function we will construct will be the pmf of a binomial distribution. Then once we have this we will evaluate it at 4."
   ]
  },
  {
   "cell_type": "markdown",
   "metadata": {},
   "source": [
    "The pmf of a binomial distribution is\n",
    "\n",
    "$$ p(x) = {n\\choose k}p^x(1-p)^{n-x} = \\frac{n!}{x!(n -x)!}p^x(1-p)^{n-x} $$"
   ]
  },
  {
   "cell_type": "code",
   "execution_count": 17,
   "metadata": {},
   "outputs": [],
   "source": [
    "import numpy as np\n",
    "n = 10\n",
    "p = 1/2\n",
    "def binomial_pmf(x):\n",
    "    return np.math.factorial(n)/(np.math.factorial(x)*np.math.factorial(n - x))*p**(x)*(1-p)**(n-x)"
   ]
  },
  {
   "cell_type": "code",
   "execution_count": 27,
   "metadata": {},
   "outputs": [
    {
     "data": {
      "text/plain": [
       "0.205078125"
      ]
     },
     "execution_count": 27,
     "metadata": {},
     "output_type": "execute_result"
    }
   ],
   "source": [
    "binomial_pmf(4)"
   ]
  },
  {
   "cell_type": "markdown",
   "metadata": {},
   "source": [
    "The is an added bonus.\n",
    "\n",
    "If you were asked what is the probabity you get at most 4 heads. You would be required to compute\n",
    "\n",
    "$$\\mathbb{P}(X \\leq 4) =\\mathbb{P}(X = 0)+\\mathbb{P}(X = 1)+\\mathbb{P}(X = 2)+\\mathbb{P}(X = 3)+\\mathbb{P}(X = 4)$$\n",
    "\n",
    "Thus we would have"
   ]
  },
  {
   "cell_type": "code",
   "execution_count": 28,
   "metadata": {},
   "outputs": [
    {
     "data": {
      "text/plain": [
       "0.376953125"
      ]
     },
     "execution_count": 28,
     "metadata": {},
     "output_type": "execute_result"
    }
   ],
   "source": [
    "binomial_pmf(0)+ binomial_pmf(1)+ binomial_pmf(2)+ binomial_pmf(3)+ binomial_pmf(4) "
   ]
  },
  {
   "cell_type": "markdown",
   "metadata": {},
   "source": [
    "## Task 3 <a name=\"n4t3\"></a>"
   ]
  },
  {
   "cell_type": "markdown",
   "metadata": {},
   "source": [
    "Starting with the array below as an input, write a function that changes every even element of the array to zero."
   ]
  },
  {
   "cell_type": "code",
   "execution_count": 29,
   "metadata": {},
   "outputs": [
    {
     "name": "stdout",
     "output_type": "stream",
     "text": [
      "[ 3  4  5  6  7  8  9 10 11 12 13 14]\n"
     ]
    }
   ],
   "source": [
    "input_array = np.arange(3,15)\n",
    "print(input_array)"
   ]
  },
  {
   "cell_type": "markdown",
   "metadata": {},
   "source": [
    "**Solution :**"
   ]
  },
  {
   "cell_type": "code",
   "execution_count": 44,
   "metadata": {},
   "outputs": [
    {
     "data": {
      "text/plain": [
       "array([ 3,  0,  5,  0,  7,  0,  9,  0, 11,  0, 13,  0])"
      ]
     },
     "execution_count": 44,
     "metadata": {},
     "output_type": "execute_result"
    }
   ],
   "source": [
    "input_array = np.arange(3,15)\n",
    "def change_even_to_zero(x):\n",
    "    for i in range(len(x)):\n",
    "        if x[i]%2==0:\n",
    "            x[i]=0\n",
    "        else: pass   \n",
    "    return x\n",
    "change_even_to_zero(input_array)"
   ]
  },
  {
   "cell_type": "code",
   "execution_count": 40,
   "metadata": {},
   "outputs": [
    {
     "data": {
      "text/plain": [
       "array([ 3,  0,  5,  0,  7,  0,  9,  0, 11,  0, 13,  0])"
      ]
     },
     "execution_count": 40,
     "metadata": {},
     "output_type": "execute_result"
    }
   ],
   "source": [
    "input_array = np.arange(3,15)\n",
    "def change_even_to_zero_advanced(x):\n",
    "    x[x%2==0]=0\n",
    "    return x\n",
    "change_even_to_zero_advanced(input_array)"
   ]
  },
  {
   "cell_type": "code",
   "execution_count": null,
   "metadata": {},
   "outputs": [],
   "source": []
  },
  {
   "cell_type": "code",
   "execution_count": null,
   "metadata": {},
   "outputs": [],
   "source": []
  }
 ],
 "metadata": {
  "kernelspec": {
   "display_name": "Python 3",
   "language": "python",
   "name": "python3"
  },
  "language_info": {
   "codemirror_mode": {
    "name": "ipython",
    "version": 3
   },
   "file_extension": ".py",
   "mimetype": "text/x-python",
   "name": "python",
   "nbconvert_exporter": "python",
   "pygments_lexer": "ipython3",
   "version": "3.6.5"
  }
 },
 "nbformat": 4,
 "nbformat_minor": 2
}
