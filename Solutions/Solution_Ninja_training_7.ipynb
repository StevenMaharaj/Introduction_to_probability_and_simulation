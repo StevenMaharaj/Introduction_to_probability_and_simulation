{
 "cells": [
  {
   "cell_type": "markdown",
   "metadata": {},
   "source": [
    "# Solution Ninja training 7"
   ]
  },
  {
   "cell_type": "markdown",
   "metadata": {},
   "source": [
    "* [Task 1](#n7t1)\n",
    "* [Task 2](#n7t2)"
   ]
  },
  {
   "cell_type": "markdown",
   "metadata": {},
   "source": [
    "## Task 1 <a name=\"n7t1\"></a>\n",
    "\n",
    "* Plot a normal density with mean 0 and low variance (just choose a small number).\n",
    "* Plot a normal density with mean 0 and high variance (just choose a big number)."
   ]
  },
  {
   "cell_type": "markdown",
   "metadata": {},
   "source": [
    "**Solution**"
   ]
  },
  {
   "cell_type": "markdown",
   "metadata": {},
   "source": [
    "I will pick 0.5 to be the small number and 3 to be the big number."
   ]
  },
  {
   "cell_type": "code",
   "execution_count": 18,
   "metadata": {},
   "outputs": [],
   "source": [
    "var_small = 0.5\n",
    "var_big = 3"
   ]
  },
  {
   "cell_type": "code",
   "execution_count": 17,
   "metadata": {},
   "outputs": [],
   "source": [
    "from scipy.stats import norm\n",
    "import matplotlib.pyplot as plt\n",
    "import numpy as np"
   ]
  },
  {
   "cell_type": "code",
   "execution_count": 16,
   "metadata": {},
   "outputs": [
    {
     "data": {
      "image/png": "[encoded data removed]",
      "text/plain": [
       "<Figure size 432x288 with 1 Axes>"
      ]
     },
     "metadata": {
      "needs_background": "light"
     },
     "output_type": "display_data"
    }
   ],
   "source": [
    "#for the small variance.\n",
    "x = np.linspace(-10,10,1000)\n",
    "density = norm.pdf(x,scale = np.sqrt(var_small))\n",
    "plt.plot(x,density)\n",
    "plt.xlabel('x')\n",
    "plt.ylabel('density')\n",
    "plt.title('A normal with a small variance')\n",
    "plt.show()"
   ]
  },
  {
   "cell_type": "code",
   "execution_count": 15,
   "metadata": {},
   "outputs": [
    {
     "data": {
      "image/png": "[encoded data removed]",
      "text/plain": [
       "<Figure size 432x288 with 1 Axes>"
      ]
     },
     "metadata": {
      "needs_background": "light"
     },
     "output_type": "display_data"
    }
   ],
   "source": [
    "#for the big variance.\n",
    "x = np.linspace(-10,10,1000)\n",
    "density = norm.pdf(x,scale = np.sqrt(var_big))\n",
    "plt.plot(x,density)\n",
    "plt.xlabel('x')\n",
    "plt.ylabel('density')\n",
    "plt.title('A normal with a large variance')\n",
    "plt.show()"
   ]
  },
  {
   "cell_type": "markdown",
   "metadata": {},
   "source": [
    "## Task 2 <a name=\"n7t2\"></a>\n",
    "\n",
    "The variance is given by this formula,\n",
    "\n",
    "$$\\operatorname{Var}(X)=\\mathbb{E}\\left[(X-\\mu)^{2}\\right].$$\n",
    "\n",
    "However, after some calculation you can show that\n",
    "\n",
    "$$ \\operatorname{Var}(X)=\\mathbb{E}\\left[X^{2}\\right]-\\mathbb{E}[X]^{2}.$$\n",
    "\n",
    "Let $X \\sim bernoulli(p)$ that is\n",
    "\n",
    "$$ \\mathbb{P}(X = x)=\\left\\{\\begin{array}{ll}{1-p} & {\\text { if } x=0} \\\\ {p} & {\\text { if } x=1}\\end{array}\\right.$$\n",
    "\n",
    "Find $\\operatorname{Var}(X)$."
   ]
  },
  {
   "cell_type": "markdown",
   "metadata": {},
   "source": [
    "**Solution**"
   ]
  },
  {
   "cell_type": "markdown",
   "metadata": {},
   "source": [
    "First let's find $\\mathbb{E}\\left[X^{2}\\right].$"
   ]
  },
  {
   "cell_type": "markdown",
   "metadata": {},
   "source": [
    "%%latex\n",
    "\\begin{align}\n",
    "\\mathbb{E}\\left[X^{2}\\right] &= \\sum_{x \\in \\lbrace0,1\\rbrace}x^2 \\mathbb{P}(X=x)\\\\\n",
    "&= 0^2 \\times \\mathbb{P}(X=0) + 1^2 \\times \\mathbb{P}(X=1)\\\\\n",
    "&=p.\n",
    "\\end{align}"
   ]
  },
  {
   "cell_type": "markdown",
   "metadata": {},
   "source": [
    "Let's find $\\mathbb{E}\\left[X\\right]^{2}$.\n",
    "\n",
    "First,"
   ]
  },
  {
   "cell_type": "markdown",
   "metadata": {},
   "source": [
    "%%latex\n",
    "\\begin{align}\n",
    "\\mathbb{E}\\left[X\\right] &= \\sum_{x \\in \\lbrace0,1\\rbrace}x \\mathbb{P}(X=x)\\\\\n",
    "&= 0 \\times \\mathbb{P}(X=0) + 1 \\times \\mathbb{P}(X=1)\\\\\n",
    "&=p.\n",
    "\\end{align}"
   ]
  },
  {
   "cell_type": "markdown",
   "metadata": {},
   "source": [
    "Thus, $\\mathbb{E}\\left[X\\right]^{2} = p^2$"
   ]
  },
  {
   "cell_type": "markdown",
   "metadata": {},
   "source": [
    "Therefore,"
   ]
  },
  {
   "cell_type": "markdown",
   "metadata": {},
   "source": [
    "%%latex\n",
    "\n",
    "\\begin{align}\n",
    "\\operatorname{Var}(X)&=\\mathbb{E}\\left[X^{2}\\right]-\\mathbb{E}[X]^{2}\\\\\n",
    "&= p - p^2\\\\\n",
    "&= p(1-p)\n",
    "\\end{align}"
   ]
  },
  {
   "cell_type": "code",
   "execution_count": null,
   "metadata": {},
   "outputs": [],
   "source": []
  }
 ],
 "metadata": {
  "kernelspec": {
   "display_name": "Python 3",
   "language": "python",
   "name": "python3"
  },
  "language_info": {
   "codemirror_mode": {
    "name": "ipython",
    "version": 3
   },
   "file_extension": ".py",
   "mimetype": "text/x-python",
   "name": "python",
   "nbconvert_exporter": "python",
   "pygments_lexer": "ipython3",
   "version": "3.7.3"
  }
 },
 "nbformat": 4,
 "nbformat_minor": 2
}
