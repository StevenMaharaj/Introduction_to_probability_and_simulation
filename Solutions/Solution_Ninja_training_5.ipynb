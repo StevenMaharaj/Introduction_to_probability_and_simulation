{
 "cells": [
  {
   "cell_type": "markdown",
   "metadata": {},
   "source": [
    "# Solutions Ninja Training 5"
   ]
  },
  {
   "cell_type": "markdown",
   "metadata": {},
   "source": [
    "* [Task 1](#n5t1)\n",
    "* [Task 2](#n5t2)"
   ]
  },
  {
   "cell_type": "markdown",
   "metadata": {},
   "source": [
    "## Task 1 <a name=\"n5t1\"></a>"
   ]
  },
  {
   "cell_type": "markdown",
   "metadata": {},
   "source": [
    "What is Wolfram alpha? "
   ]
  },
  {
   "cell_type": "markdown",
   "metadata": {},
   "source": [
    "**Solution:** "
   ]
  },
  {
   "cell_type": "markdown",
   "metadata": {},
   "source": [
    "A computational engine that can solve most fisrt and second year problems."
   ]
  },
  {
   "cell_type": "markdown",
   "metadata": {},
   "source": [
    "## Task 2 <a name=\"n5t2\"></a>"
   ]
  },
  {
   "cell_type": "markdown",
   "metadata": {},
   "source": [
    "Evaluate $\\int_{0}^{2} (e^{3x}+ \\cos(x) + 3x) dx$ and check your answer on Wolfram alpha."
   ]
  },
  {
   "cell_type": "markdown",
   "metadata": {},
   "source": [
    "**Solution:** "
   ]
  },
  {
   "cell_type": "markdown",
   "metadata": {},
   "source": [
    "First you would have to google what is the integral of $\\cos(x)$. It is $\\sin(x)$.\n",
    "\n",
    "Split the integral into three integrals then add them all together at the end."
   ]
  },
  {
   "cell_type": "markdown",
   "metadata": {},
   "source": [
    "$$\\int_{0}^{2} e^{3x}dx = \\left[\\frac{1}{3} e^{3x} \\right]_{0}^{2}= \\frac{1}{3}e^{2} - \\frac{1}{3}e^{0} =  \\frac{1}{3}e^{2} - \\frac{1}{3}\n",
    "$$"
   ]
  },
  {
   "cell_type": "markdown",
   "metadata": {},
   "source": [
    "$$\\int_{0}^{2} \\cos(x)dx = \\left[\\sin(x) \\right]_{0}^{2}= \\sin(2) -\\sin(0) = \\sin(2)$$"
   ]
  },
  {
   "cell_type": "markdown",
   "metadata": {},
   "source": [
    "$$\\int_{0}^{2} 3xdx = \\left[\\frac{3x^2}{2} \\right]_{0}^{2}= \\frac{3(2)^2}{2} -\\frac{3(0)^2}{2} = 6$$"
   ]
  },
  {
   "cell_type": "markdown",
   "metadata": {},
   "source": [
    "Thus,"
   ]
  },
  {
   "cell_type": "markdown",
   "metadata": {},
   "source": [
    "$$\\int_{0}^{2} (e^{3x}+ \\cos(x) + 3x) dx = 6 + \\sin(2) + \\frac{1}{3}e^{2} - \\frac{1}{3} =  \\frac{17}{3} + \\sin(2) + \\frac{1}{3}e^{2} $$"
   ]
  },
  {
   "cell_type": "code",
   "execution_count": null,
   "metadata": {},
   "outputs": [],
   "source": []
  }
 ],
 "metadata": {
  "kernelspec": {
   "display_name": "Python 3",
   "language": "python",
   "name": "python3"
  },
  "language_info": {
   "codemirror_mode": {
    "name": "ipython",
    "version": 3
   },
   "file_extension": ".py",
   "mimetype": "text/x-python",
   "name": "python",
   "nbconvert_exporter": "python",
   "pygments_lexer": "ipython3",
   "version": "3.7.3"
  }
 },
 "nbformat": 4,
 "nbformat_minor": 2
}
