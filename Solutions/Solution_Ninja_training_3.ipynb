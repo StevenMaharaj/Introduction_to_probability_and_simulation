{
 "cells": [
  {
   "cell_type": "markdown",
   "metadata": {},
   "source": [
    "# Solutions Ninja Training 3\n"
   ]
  },
  {
   "cell_type": "markdown",
   "metadata": {},
   "source": [
    "[Task 1](#n3t1)"
   ]
  },
  {
   "cell_type": "markdown",
   "metadata": {},
   "source": [
    "## Task 1 <a name=\"n3t1\"></a>\n",
    "\n",
    "\n",
    "Starting with the 3 probabiliity axioms prove the following.\n",
    "\n",
    "If $A$ is an event then $$\\mathbb{P}\\left(A^{c}\\right)=1-\\mathbb{P}(A).$$ Then given this result we have that $\\mathbb{P}(\\emptyset)=0$"
   ]
  },
  {
   "cell_type": "markdown",
   "metadata": {},
   "source": [
    "**Solution :**"
   ]
  },
  {
   "cell_type": "markdown",
   "metadata": {},
   "source": [
    "We have $\\Omega=A \\cup A^{c}$ and $A \\cap A^{c}=\\emptyset$.\n",
    "\n",
    "By axiom 3, $\\mathbb{P}(\\Omega)=\\mathbb{P}(A)+\\mathbb{P}\\left(A^{c}\\right)$.\n",
    "\n",
    "However by axiom 2, $\\mathbb{P}(\\Omega)=1$ so\n",
    "\n",
    "$$\\mathbb{P}\\left(A^{c}\\right)=1-\\mathbb{P}(A)$$\n",
    "\n",
    "Great!!! Given this result we note that $\\Omega^c = \\emptyset$ thus $\\mathbb{P}(\\emptyset)=1-\\mathbb{P}(\\Omega)=0$\n",
    "\n"
   ]
  },
  {
   "cell_type": "code",
   "execution_count": null,
   "metadata": {},
   "outputs": [],
   "source": []
  }
 ],
 "metadata": {
  "kernelspec": {
   "display_name": "Python 3",
   "language": "python",
   "name": "python3"
  },
  "language_info": {
   "codemirror_mode": {
    "name": "ipython",
    "version": 3
   },
   "file_extension": ".py",
   "mimetype": "text/x-python",
   "name": "python",
   "nbconvert_exporter": "python",
   "pygments_lexer": "ipython3",
   "version": "3.7.1"
  }
 },
 "nbformat": 4,
 "nbformat_minor": 2
}
