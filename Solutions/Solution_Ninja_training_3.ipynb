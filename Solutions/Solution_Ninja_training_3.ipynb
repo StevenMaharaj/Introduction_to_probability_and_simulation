{
 "cells": [
  {
   "cell_type": "markdown",
   "metadata": {},
   "source": [
    "# Solutions Ninja Training 3\n"
   ]
  },
  {
   "cell_type": "markdown",
   "metadata": {},
   "source": [
    "* [Task 1](#n3t1)\n",
    "* [Task 2](#n3t2)\n",
    "* [Task 3](#n3t3)\n",
    "* [Task 4](#n3t4)"
   ]
  },
  {
   "cell_type": "markdown",
   "metadata": {},
   "source": [
    "## Task 1 <a name=\"n3t1\"></a>\n",
    "\n",
    "\n",
    "Starting with the 3 probabiliity axioms prove the following.\n",
    "\n",
    "If $A$ is an event then $$\\mathbb{P}\\left(A^{c}\\right)=1-\\mathbb{P}(A).$$ Then given this result we have that $\\mathbb{P}(\\emptyset)=0$"
   ]
  },
  {
   "cell_type": "markdown",
   "metadata": {},
   "source": [
    "**Solution :**"
   ]
  },
  {
   "cell_type": "markdown",
   "metadata": {},
   "source": [
    "We have $\\Omega=A \\cup A^{c}$ and $A \\cap A^{c}=\\emptyset$.\n",
    "\n",
    "By axiom 3, $\\mathbb{P}(\\Omega)=\\mathbb{P}(A)+\\mathbb{P}\\left(A^{c}\\right)$.\n",
    "\n",
    "However by axiom 2, $\\mathbb{P}(\\Omega)=1$ so\n",
    "\n",
    "$$\\mathbb{P}\\left(A^{c}\\right)=1-\\mathbb{P}(A)$$\n",
    "\n",
    "Great!!! Given this result we note that $\\Omega^c = \\emptyset$ thus $\\mathbb{P}(\\emptyset)=1-\\mathbb{P}(\\Omega)=0$\n",
    "\n"
   ]
  },
  {
   "cell_type": "markdown",
   "metadata": {},
   "source": [
    "## Task 2 <a name=\"n3t2\"></a>\n",
    "\n",
    "\n",
    "If $A$ and $B$ are events and $A \\subseteq B$ ($A$ is a subset of $B$) then $\\mathbb{P}(A) \\leq \\mathbb{P}(B)$."
   ]
  },
  {
   "cell_type": "markdown",
   "metadata": {},
   "source": [
    "**Solution :**"
   ]
  },
  {
   "cell_type": "markdown",
   "metadata": {},
   "source": [
    "Since $A \\subseteq B$ we have $B=A \\cup(B \\setminus A)$ and $A \\cap(B \\setminus A)=\\emptyset$\n",
    "\n",
    "If you can not see this draw the picture.\n",
    "\n",
    "By axiom 3 $\\mathbb{P}(B)=\\mathbb{P}(A)+\\mathbb{P}(B \\setminus A)$,\n",
    "\n",
    "by axiom 1 we have $\\mathbb{P}(B \\setminus A) \\geq 0$.\n",
    "\n",
    "\n",
    "Thus, $\\mathbb{P}(B) \\geq \\mathbb{P}(A)$"
   ]
  },
  {
   "cell_type": "markdown",
   "metadata": {},
   "source": [
    "## Task 3 <a name=\"n3t3\"></a>\n",
    "\n",
    "For any two events $A$ and $B$ we have \n",
    "\n",
    "$$\\mathbb{P}(A \\cup B)=\\mathbb{P}(A)+\\mathbb{P}(B)-\\mathbb{P}(A \\cap B)$$"
   ]
  },
  {
   "cell_type": "markdown",
   "metadata": {},
   "source": [
    "**Solution :**"
   ]
  },
  {
   "cell_type": "markdown",
   "metadata": {},
   "source": [
    "The events $A \\backslash B, B \\backslash A \\text { and } A \\cap B$ are pairwise disjoint so by axiom 3 we have,\n",
    "\n",
    "$$\\mathbb{P}(A \\cup B)=\\mathbb{P}(A \\backslash B)+\\mathbb{P}(B \\backslash A)+\\mathbb{P}(A \\cap B)  \\quad (1)$$.\n",
    "\n",
    "By axiom 3 we also have $\\mathbb{P}(A)=\\mathbb{P}(A \\backslash B)+\\mathbb{P}(A \\cap B)$ which implies $$\\mathbb{P}(A \\backslash B)=\\mathbb{P}(A)-\\mathbb{P}(A \\cap B).  \\quad \\quad \\quad \\quad\\quad(2)$$\n",
    "\n",
    "Also by axiom 3 $\\mathbb{P}(B)=\\mathbb{P}(B \\backslash A)+\\mathbb{P}(A \\cap B)$ which implies\n",
    "\n",
    "$$\\mathbb{P}(B)=\\mathbb{P}(B \\backslash A)+\\mathbb{P}(A \\cap B). \\quad \\quad \\quad\\quad \\quad(3)$$\n",
    "\n",
    "We can now substitute equations (2) and (3) into (1) to obtain\n",
    "\n",
    "$$\\mathbb{P}(A \\cup B)=\\mathbb{P}(A)+\\mathbb{P}(B)-\\mathbb{P}(A \\cap B).$$"
   ]
  },
  {
   "cell_type": "markdown",
   "metadata": {},
   "source": [
    "## Task 4 <a name=\"n3t4\"></a>\n",
    "\n",
    "This question only requires deep thought.\n",
    "\n",
    "Let $X$ be RV distributed exponetially with an intensity $\\lambda = 2$. In other words you it had this pdf.\n",
    "$$f(x) = 2\\exp(-2x), \\quad \\quad\\quad x \\geq 0 $$\n",
    "\n",
    "Think about how one would calculate $\\mathbb{P}(X\\leq 2)$.\n",
    "\n",
    "You may need to use Google."
   ]
  },
  {
   "cell_type": "markdown",
   "metadata": {},
   "source": [
    "**Solution :**"
   ]
  },
  {
   "cell_type": "markdown",
   "metadata": {},
   "source": [
    "You would need to integrate the the pdf from 0 to 2 or equivalently evaluate the **distribution function** at 2."
   ]
  },
  {
   "cell_type": "code",
   "execution_count": null,
   "metadata": {},
   "outputs": [],
   "source": []
  }
 ],
 "metadata": {
  "kernelspec": {
   "display_name": "Python 3",
   "language": "python",
   "name": "python3"
  },
  "language_info": {
   "codemirror_mode": {
    "name": "ipython",
    "version": 3
   },
   "file_extension": ".py",
   "mimetype": "text/x-python",
   "name": "python",
   "nbconvert_exporter": "python",
   "pygments_lexer": "ipython3",
   "version": "3.7.1"
  }
 },
 "nbformat": 4,
 "nbformat_minor": 2
}
