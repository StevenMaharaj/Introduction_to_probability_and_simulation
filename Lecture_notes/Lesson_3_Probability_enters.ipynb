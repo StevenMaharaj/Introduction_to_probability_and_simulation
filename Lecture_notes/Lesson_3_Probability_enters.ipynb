{
 "cells": [
  {
   "cell_type": "markdown",
   "metadata": {},
   "source": [
    "# Probability enters"
   ]
  },
  {
   "cell_type": "markdown",
   "metadata": {},
   "source": [
    "## Contents\n",
    "\n",
    "* [Probability basics](#probability_basics) \n",
    "* [Probability axioms](#probability_axioms)\n",
    "* [Random variables](#random_variables)"
   ]
  },
  {
   "cell_type": "markdown",
   "metadata": {},
   "source": [
    "## Probability basics <a name=\"probability_basics\"></a>"
   ]
  },
  {
   "cell_type": "markdown",
   "metadata": {},
   "source": [
    " Probability space or a probability triple consist of these three elements ${\\displaystyle (\\Omega ,{\\mathcal {F}},\\mathbb{P})}$\n"
   ]
  },
  {
   "cell_type": "markdown",
   "metadata": {},
   "source": [
    "* $\\Omega$ is the set all of possible outcomes.\n",
    "\n",
    "In the dice rolling example $\\Omega = \\{1, 2, 3, 4, 5, 6\\}$."
   ]
  },
  {
   "cell_type": "markdown",
   "metadata": {},
   "source": [
    "* $\\mathcal{F} $ is the set all of events (subsets of out outcomes).\n",
    "\n",
    "In the dice rolling example $$\\mathcal{F} = \\{ \\emptyset, \\{1 \\}, ..., \\{6\\}, \\{1,2\\}, ...,\n",
    "\\{5,6\\}, ..., \\{1,2,3,4,5,6\\} \\}.$$\n",
    "\n",
    "This is an advanced concept don't worry if you don't understand."
   ]
  },
  {
   "cell_type": "markdown",
   "metadata": {},
   "source": [
    "$\\mathbb{P}$ is a probability measure (mearsure has a deep meaning, just think of it as a function).\n",
    "$$\\mathbb{P}: \\mathcal{F} \\rightarrow \\mathbb{R} $$\n",
    "\n",
    "In the dice rolling example $$\\mathbb{P}(\\emptyset)=0,$$ $$ \\mathbb{P}(\\{1\\})=\\frac{1}{6},$$ \n",
    "$$\\mathbb{P}(\\{1,2\\})=\\frac{1}{3},$$"
   ]
  },
  {
   "cell_type": "code",
   "execution_count": null,
   "metadata": {},
   "outputs": [],
   "source": []
  },
  {
   "cell_type": "code",
   "execution_count": null,
   "metadata": {},
   "outputs": [],
   "source": []
  },
  {
   "cell_type": "code",
   "execution_count": null,
   "metadata": {},
   "outputs": [],
   "source": []
  },
  {
   "cell_type": "code",
   "execution_count": null,
   "metadata": {},
   "outputs": [],
   "source": []
  },
  {
   "cell_type": "code",
   "execution_count": null,
   "metadata": {},
   "outputs": [],
   "source": []
  },
  {
   "cell_type": "code",
   "execution_count": null,
   "metadata": {},
   "outputs": [],
   "source": []
  },
  {
   "cell_type": "code",
   "execution_count": null,
   "metadata": {},
   "outputs": [],
   "source": []
  },
  {
   "cell_type": "code",
   "execution_count": null,
   "metadata": {},
   "outputs": [],
   "source": []
  },
  {
   "cell_type": "code",
   "execution_count": null,
   "metadata": {},
   "outputs": [],
   "source": []
  },
  {
   "cell_type": "markdown",
   "metadata": {},
   "source": [
    "## Probability axioms <a name=\"probability_axioms\"></a>"
   ]
  },
  {
   "cell_type": "markdown",
   "metadata": {},
   "source": [
    "1. $\\mathbb{P}(A) ≥ 0$ for every event $A$ in $\\mathcal{F}$.\n",
    "2. $\\mathbb{P}(\\Omega)=1$\n",
    "3. For a collections of pairwise disjoint events $A_{1}, A_{2}, \\dots$,\n",
    "    $$\\mathbb{P}\\left(\\bigcup_{i=1}^{\\infty} A_{i}\\right)=\\sum_{i=1}^{\\infty} \\mathbb{P}\\left(A_{i}\\right).$$\n",
    " "
   ]
  },
  {
   "cell_type": "markdown",
   "metadata": {},
   "source": [
    "The third one looks pretty intense lets, talk about it.\n",
    "\n"
   ]
  },
  {
   "cell_type": "markdown",
   "metadata": {},
   "source": [
    "So what does disjoint mean? All the events event $A_{1}, A_{2}, \\dots$ have unique outcomes.\n",
    "\n",
    "Visually,"
   ]
  },
  {
   "cell_type": "code",
   "execution_count": null,
   "metadata": {},
   "outputs": [],
   "source": []
  },
  {
   "cell_type": "markdown",
   "metadata": {},
   "source": [
    "The left hand side (LHS) of axiom 3 says the \n",
    "\n",
    "***probability of the union of those disjoint events***\n",
    "\n",
    "is equal to\n",
    "\n",
    "***the sum of the probabilities of each disjoint event***.\n",
    "\n"
   ]
  },
  {
   "cell_type": "markdown",
   "metadata": {},
   "source": [
    "If it did not come to you, keep trying. Don't give up!!!"
   ]
  },
  {
   "cell_type": "markdown",
   "metadata": {},
   "source": [
    "## Random variables <a name=\"random_variables\"></a>\n"
   ]
  },
  {
   "cell_type": "markdown",
   "metadata": {},
   "source": [
    "A random variable X is a function that maps an outcome $\\omega$ to a numeric value. That is $X(\\omega) \\in \\mathbb{R}.$"
   ]
  },
  {
   "cell_type": "markdown",
   "metadata": {},
   "source": [
    "$\\mathbb{P} (X(\\omega) \\in A)$ denotes the probability of the outcome such that X falls in the range A.\n",
    "\n",
    "Note that it is $\\mathbb{P} (X(\\omega) \\in A)$ is often written as $\\mathbb{P} (X \\in A)$."
   ]
  },
  {
   "cell_type": "markdown",
   "metadata": {},
   "source": [
    "That was pretty technical!!! Let's have an example."
   ]
  },
  {
   "cell_type": "markdown",
   "metadata": {},
   "source": [
    "Example:\n",
    "Let $X$ = winnings on a $\\$2$ bet on an even die roll.\n",
    "* $X$ maps 1,3,5 to -2\n",
    "* $X$ maps 2,4,6 to 2\n",
    "* $\\mathbb{P}(X=2) = \\mathbb{P}(X=-2) = \\frac{1}{2}$"
   ]
  },
  {
   "cell_type": "code",
   "execution_count": null,
   "metadata": {},
   "outputs": [],
   "source": []
  }
 ],
 "metadata": {
  "kernelspec": {
   "display_name": "Python 3",
   "language": "python",
   "name": "python3"
  },
  "language_info": {
   "codemirror_mode": {
    "name": "ipython",
    "version": 3
   },
   "file_extension": ".py",
   "mimetype": "text/x-python",
   "name": "python",
   "nbconvert_exporter": "python",
   "pygments_lexer": "ipython3",
   "version": "3.6.5"
  }
 },
 "nbformat": 4,
 "nbformat_minor": 2
}
