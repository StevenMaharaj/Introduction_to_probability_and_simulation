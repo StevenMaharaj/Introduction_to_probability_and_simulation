{
 "cells": [
  {
   "cell_type": "markdown",
   "metadata": {},
   "source": [
    "# Probability enters"
   ]
  },
  {
   "cell_type": "markdown",
   "metadata": {},
   "source": [
    "## Contents\n",
    "\n",
    "* [Probability basics](#probability_basics) \n",
    "* [Probability axioms](#probability_axioms)\n",
    "* [Random variables](#random_variables)\n",
    "* [Probability mass and density functions](#probability_densities)"
   ]
  },
  {
   "cell_type": "markdown",
   "metadata": {},
   "source": [
    "## Probability basics <a name=\"probability_basics\"></a>"
   ]
  },
  {
   "cell_type": "markdown",
   "metadata": {},
   "source": [
    " Probability space or a probability triple consist of these three elements ${\\displaystyle (\\Omega ,{\\mathcal {F}},\\mathbb{P})}$\n"
   ]
  },
  {
   "cell_type": "markdown",
   "metadata": {},
   "source": [
    "* $\\Omega$ is the set all of possible outcomes.\n",
    "\n",
    "In the dice rolling example $\\Omega = \\{1, 2, 3, 4, 5, 6\\}$."
   ]
  },
  {
   "cell_type": "markdown",
   "metadata": {},
   "source": [
    "* $\\mathcal{F} $ is the set all of events (subsets of out outcomes).\n",
    "\n",
    "In the dice rolling example $$\\mathcal{F} = \\{ \\emptyset, \\{1 \\}, ..., \\{6\\}, \\{1,2\\}, ...,\n",
    "\\{5,6\\}, ..., \\{1,2,3,4,5,6\\} \\}.$$\n",
    "\n",
    "This is an advanced concept don't worry if you don't understand."
   ]
  },
  {
   "cell_type": "markdown",
   "metadata": {},
   "source": [
    "$\\mathbb{P}$ is a probability measure (mearsure has a deep meaning, just think of it as a function).\n",
    "$$\\mathbb{P}: \\mathcal{F} \\rightarrow \\mathbb{R} $$\n",
    "\n",
    "In the dice rolling example $$\\mathbb{P}(\\emptyset)=0,$$ $$ \\mathbb{P}(\\{1\\})=\\frac{1}{6},$$ \n",
    "$$\\mathbb{P}(\\{1,2\\})=\\frac{1}{3},$$"
   ]
  },
  {
   "cell_type": "code",
   "execution_count": null,
   "metadata": {},
   "outputs": [],
   "source": []
  },
  {
   "cell_type": "code",
   "execution_count": null,
   "metadata": {},
   "outputs": [],
   "source": []
  },
  {
   "cell_type": "code",
   "execution_count": null,
   "metadata": {},
   "outputs": [],
   "source": []
  },
  {
   "cell_type": "code",
   "execution_count": null,
   "metadata": {},
   "outputs": [],
   "source": []
  },
  {
   "cell_type": "code",
   "execution_count": null,
   "metadata": {},
   "outputs": [],
   "source": []
  },
  {
   "cell_type": "code",
   "execution_count": null,
   "metadata": {},
   "outputs": [],
   "source": []
  },
  {
   "cell_type": "code",
   "execution_count": null,
   "metadata": {},
   "outputs": [],
   "source": []
  },
  {
   "cell_type": "code",
   "execution_count": null,
   "metadata": {},
   "outputs": [],
   "source": []
  },
  {
   "cell_type": "code",
   "execution_count": null,
   "metadata": {},
   "outputs": [],
   "source": []
  },
  {
   "cell_type": "markdown",
   "metadata": {},
   "source": [
    "## Probability axioms <a name=\"probability_axioms\"></a>"
   ]
  },
  {
   "cell_type": "markdown",
   "metadata": {},
   "source": [
    "1. $\\mathbb{P}(A) ≥ 0$ for every event $A$ in $\\mathcal{F}$.\n",
    "2. $\\mathbb{P}(\\Omega)=1$\n",
    "3. For a collections of pairwise disjoint events $A_{1}, A_{2}, \\dots$,\n",
    "    $$\\mathbb{P}\\left(\\bigcup_{i=1}^{\\infty} A_{i}\\right)=\\sum_{i=1}^{\\infty} \\mathbb{P}\\left(A_{i}\\right).$$\n",
    " "
   ]
  },
  {
   "cell_type": "markdown",
   "metadata": {},
   "source": [
    "The third one looks pretty intense lets, talk about it.\n",
    "\n"
   ]
  },
  {
   "cell_type": "markdown",
   "metadata": {},
   "source": [
    "So what does disjoint mean? All the events event $A_{1}, A_{2}, \\dots$ have unique outcomes.\n",
    "\n",
    "Visually,"
   ]
  },
  {
   "cell_type": "code",
   "execution_count": null,
   "metadata": {},
   "outputs": [],
   "source": []
  },
  {
   "cell_type": "markdown",
   "metadata": {},
   "source": [
    "The left hand side (LHS) of axiom 3 says the \n",
    "\n",
    "***probability of the union of those disjoint events***\n",
    "\n",
    "is equal to\n",
    "\n",
    "***the sum of the probabilities of each disjoint event***.\n",
    "\n"
   ]
  },
  {
   "cell_type": "markdown",
   "metadata": {},
   "source": [
    "If it did not come to you, keep trying. Don't give up!!!"
   ]
  },
  {
   "cell_type": "markdown",
   "metadata": {},
   "source": [
    "## Random variables <a name=\"random_variables\"></a>\n"
   ]
  },
  {
   "cell_type": "markdown",
   "metadata": {},
   "source": [
    "A random variable (RV) X is a function that maps an outcome $\\omega$ to a numeric value. That is $X(\\omega) \\in \\mathbb{R}.$"
   ]
  },
  {
   "cell_type": "markdown",
   "metadata": {},
   "source": [
    "$\\mathbb{P} (X(\\omega) \\in A)$ denotes the probability of the outcome such that X falls in the range A.\n",
    "\n",
    "Note that it is $\\mathbb{P} (X(\\omega) \\in A)$ is often written as $\\mathbb{P} (X \\in A)$."
   ]
  },
  {
   "cell_type": "markdown",
   "metadata": {},
   "source": [
    "That was pretty technical!!! Let's have an example."
   ]
  },
  {
   "cell_type": "markdown",
   "metadata": {},
   "source": [
    "Example:\n",
    "Let $X$ = winnings on a $\\$2$ bet on an even die roll.\n",
    "* $X$ maps 1,3,5 to -2\n",
    "* $X$ maps 2,4,6 to 2\n",
    "* $\\mathbb{P}(X=2) = \\mathbb{P}(X=-2) = \\frac{1}{2}$"
   ]
  },
  {
   "cell_type": "markdown",
   "metadata": {},
   "source": [
    "## Probability mass and density functions <a name=\"probability_densities\"></a>"
   ]
  },
  {
   "cell_type": "markdown",
   "metadata": {},
   "source": [
    "There are two main types of random variables; Discrete and continuous.\n",
    "\n",
    "Some discrete examples.\n",
    "* The number you roll on a dice.\n",
    "* The number of tinder matches you get in a week. \n",
    "* The of times you are late to work or school this year.\n",
    "\n",
    "Some continuous examples\n",
    "* The amount of time you have to wait in a queue.\n",
    "* The number of centermeters you grow this year.\n",
    "* The number of minutes the bus is late."
   ]
  },
  {
   "cell_type": "markdown",
   "metadata": {},
   "source": [
    "We describe a discrete RV with a probability mass function (pmf) $p(x)$ which is $P(X=x)$.\n",
    "\n",
    "Let's work with the tinder example.\n",
    "\n",
    "Assume that the maximum number of matches I get in a we is 3 the a possible pmf could be\n",
    "\n",
    "$$ p(x) = \\begin{cases}0.2 \\quad \\text{if} \\quad x = 0\\\\\n",
    "                    0.5 \\quad \\text{if} \\quad x = 1\\\\\n",
    "                    0.2\\quad \\text{if} \\quad x = 2\\\\\n",
    "                    0.1\\quad \\text{if} \\quad x = 3\\\\\n",
    "    \\end{cases}$$\n",
    "\n"
   ]
  },
  {
   "cell_type": "markdown",
   "metadata": {},
   "source": [
    "In English this means that the\n",
    "\n",
    "* probability I get zero tinder matches is 0.2.\n",
    "* probability I get one tinder matches is 0.5.\n",
    "* probability I get two tinder matches is 0.2.\n",
    "* probability I get three tinder matches is 0.1.\n",
    "\n",
    "Note that all the probabilities add to 1. This is axiom two."
   ]
  },
  {
   "cell_type": "markdown",
   "metadata": {},
   "source": [
    "We describe a continuous RV with a probability density function (pdf) $f(x)$. Techniquely $f(x)$ is not $P(X=x)$ as the probablity of a continous RV taking a single value is zero.\n",
    "\n",
    "Example:\n",
    "\n",
    "Let X be the amount of time in minutes you have to wait for coffee.\n",
    "\n"
   ]
  }
 ],
 "metadata": {
  "kernelspec": {
   "display_name": "Python 3",
   "language": "python",
   "name": "python3"
  },
  "language_info": {
   "codemirror_mode": {
    "name": "ipython",
    "version": 3
   },
   "file_extension": ".py",
   "mimetype": "text/x-python",
   "name": "python",
   "nbconvert_exporter": "python",
   "pygments_lexer": "ipython3",
   "version": "3.6.5"
  }
 },
 "nbformat": 4,
 "nbformat_minor": 2
}
