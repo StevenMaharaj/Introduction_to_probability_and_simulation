{
 "cells": [
  {
   "cell_type": "markdown",
   "metadata": {},
   "source": [
    "# Probability enters"
   ]
  },
  {
   "cell_type": "markdown",
   "metadata": {},
   "source": [
    "## Contents\n",
    "\n",
    "* [Probability basics](#probability_basics) (copy ML notes)\n",
    "* [Probability axioms](#probability_axioms) (copy ML notes)"
   ]
  },
  {
   "cell_type": "markdown",
   "metadata": {},
   "source": [
    "## Probability basics <a name=\"probability_basics\"></a>"
   ]
  },
  {
   "cell_type": "markdown",
   "metadata": {},
   "source": [
    " Probability space or a probability triple consist of these three elements ${\\displaystyle (\\Omega ,{\\mathcal {F}},P)}$\n"
   ]
  },
  {
   "cell_type": "markdown",
   "metadata": {},
   "source": [
    "* $\\Omega$ is the set all of possible outcomes.\n",
    "\n",
    "In the dice rolling example $\\Omega = \\{1, 2, 3, 4, 5, 6\\}$."
   ]
  },
  {
   "cell_type": "markdown",
   "metadata": {},
   "source": [
    "* $\\mathcal{F} $ is the set all of events (subsets of out outcomes).\n",
    "\n",
    "In the dice rolling example $$\\mathcal{F} = \\{ \\emptyset, \\{1 \\}, ..., \\{6\\}, \\{1,2\\}, ...,\n",
    "\\{5,6\\}, ..., \\{1,2,3,4,5,6\\} \\}.$$\n",
    "\n",
    "This is an advanced concept don't if you don't understand"
   ]
  },
  {
   "cell_type": "markdown",
   "metadata": {},
   "source": [
    "P is a probability measure (mearsure has a deep meaning, just think of it as a function).\n",
    "$$P: \\mathcal{F} \\rightarrow \\mathbb{R} $$\n",
    "\n",
    "In the dice rolling example $$P(\\emptyset)=0,$$ $$ P(\\{1\\})=\\frac{1}{6},$$ \n",
    "$$P(\\{1,2\\})=\\frac{1}{3},$$"
   ]
  },
  {
   "cell_type": "code",
   "execution_count": null,
   "metadata": {},
   "outputs": [],
   "source": []
  },
  {
   "cell_type": "code",
   "execution_count": null,
   "metadata": {},
   "outputs": [],
   "source": []
  },
  {
   "cell_type": "code",
   "execution_count": null,
   "metadata": {},
   "outputs": [],
   "source": []
  },
  {
   "cell_type": "code",
   "execution_count": null,
   "metadata": {},
   "outputs": [],
   "source": []
  },
  {
   "cell_type": "code",
   "execution_count": null,
   "metadata": {},
   "outputs": [],
   "source": []
  },
  {
   "cell_type": "code",
   "execution_count": null,
   "metadata": {},
   "outputs": [],
   "source": []
  },
  {
   "cell_type": "code",
   "execution_count": null,
   "metadata": {},
   "outputs": [],
   "source": []
  },
  {
   "cell_type": "code",
   "execution_count": null,
   "metadata": {},
   "outputs": [],
   "source": []
  },
  {
   "cell_type": "code",
   "execution_count": null,
   "metadata": {},
   "outputs": [],
   "source": []
  },
  {
   "cell_type": "markdown",
   "metadata": {},
   "source": [
    "## Probability axioms <a name=\"probability_axioms\"></a>"
   ]
  },
  {
   "cell_type": "markdown",
   "metadata": {},
   "source": [
    "1. $P(A) ≥ 0$ for every event $A$ in $\\mathcal{F}$.\n",
    "2. $P(\\Omega)=1$\n",
    "3. For a collections of pairwise disjoint events $A_{1}, A_{2}, \\dots$,\n",
    "    $$P\\left(\\bigcup_{i=1}^{\\infty} A_{i}\\right)=\\sum_{i=1}^{\\infty} P\\left(A_{i}\\right).$$\n",
    " "
   ]
  },
  {
   "cell_type": "markdown",
   "metadata": {},
   "source": [
    "The third one looks pretty intense lets talk about it.\n",
    "\n"
   ]
  }
 ],
 "metadata": {
  "kernelspec": {
   "display_name": "Python 3",
   "language": "python",
   "name": "python3"
  },
  "language_info": {
   "codemirror_mode": {
    "name": "ipython",
    "version": 3
   },
   "file_extension": ".py",
   "mimetype": "text/x-python",
   "name": "python",
   "nbconvert_exporter": "python",
   "pygments_lexer": "ipython3",
   "version": "3.7.1"
  }
 },
 "nbformat": 4,
 "nbformat_minor": 2
}
