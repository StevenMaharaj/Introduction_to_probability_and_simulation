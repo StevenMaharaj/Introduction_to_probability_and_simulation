{
 "cells": [
  {
   "cell_type": "markdown",
   "metadata": {},
   "source": [
    "# Probability get serious"
   ]
  },
  {
   "cell_type": "markdown",
   "metadata": {},
   "source": [
    "## Contents\n",
    "\n",
    "* [Cumulative distribution function](#cdf)\n",
    "* [](#probability_basics) \n",
    "* [Probability axioms](#probability_axioms)"
   ]
  },
  {
   "cell_type": "markdown",
   "metadata": {},
   "source": [
    "## Cumulative distribution function <a name=cdf></a>"
   ]
  },
  {
   "cell_type": "markdown",
   "metadata": {},
   "source": [
    "Cumulative distribution function (CDF) of a RV $X$ evaluated at $x$, is the probability that $X$ will take a value less than or equal to $x$. \n",
    "\n",
    "\n",
    "$$F_X(x) = \\mathbb{P}(X \\leq x)$$"
   ]
  },
  {
   "cell_type": "markdown",
   "metadata": {},
   "source": [
    "First let us consider the discrete case. Consider the possion distribution with pmf and intensity $\\lambda$,\n",
    "\n",
    "$$p_X(x) = \\frac{\\lambda^x e^{-\\lambda}}{x!}$$\n",
    "\n",
    "The possion distrubution is used to model the number of observation one sees in a interval of time or space."
   ]
  },
  {
   "cell_type": "markdown",
   "metadata": {},
   "source": [
    "For example, let $X$ be the number of cars observed between some time interval $\\mathcal{T}$. Then may have a probability mass function,\n",
    "\n",
    "$$p_X(x) = \\frac{2^x e^{-2}}{x!}.$$ \n",
    "\n",
    "This a possion distribution with rate 2."
   ]
  },
  {
   "cell_type": "markdown",
   "metadata": {},
   "source": [
    "I have two question;\n",
    "1. What is the probability one observes **exactly 3** cars in $\\mathcal{T}$.\n",
    "2. What is the probability one observes **at most 3** cars in $\\mathcal{T}$."
   ]
  },
  {
   "cell_type": "markdown",
   "metadata": {},
   "source": [
    "The first question ok. It was covered in lesson three. We just need to evaluate the pmf at $x = 3$.\n",
    "$$P_X(3) = \\frac{2^3 e^{-2}}{3!} = \\frac{8 e^{-2}}{6} = \\frac{4 e^{-2}}{3}$$"
   ]
  },
  {
   "cell_type": "markdown",
   "metadata": {},
   "source": [
    "We can check using python."
   ]
  },
  {
   "cell_type": "code",
   "execution_count": 6,
   "metadata": {},
   "outputs": [
    {
     "name": "stdout",
     "output_type": "stream",
     "text": [
      "0.1804470443154836\n"
     ]
    },
    {
     "data": {
      "text/plain": [
       "0.18044704431548356"
      ]
     },
     "execution_count": 6,
     "metadata": {},
     "output_type": "execute_result"
    }
   ],
   "source": [
    "import numpy as np\n",
    "print(4.0*np.exp(-2.0)/3.0)\n",
    "\n",
    "\n",
    "from scipy.stats import poisson\n",
    "poisson.pmf(3,mu=2)"
   ]
  },
  {
   "cell_type": "markdown",
   "metadata": {},
   "source": [
    "For the second quantity we need to find this quantity\n",
    "\n",
    "$$F_X(3) = \\mathbb{P}(X \\leq 3)$$"
   ]
  },
  {
   "cell_type": "markdown",
   "metadata": {},
   "source": [
    "which is \n",
    "$$\\mathbb{P}(X=0) +\\mathbb{P}(X=1) + \\mathbb{P}(X=2) + \\mathbb{P}(X=3) $$"
   ]
  },
  {
   "cell_type": "markdown",
   "metadata": {},
   "source": [
    "evaluating this we get \n",
    "\n",
    "$$ e^{-2} +2 e^{-2}+ 2 e^{-2}+\\frac{4 e^{-2}}{3} = \\frac{19 e^{-2}}{3}$$"
   ]
  },
  {
   "cell_type": "markdown",
   "metadata": {},
   "source": [
    "We can check using python."
   ]
  },
  {
   "cell_type": "code",
   "execution_count": 25,
   "metadata": {},
   "outputs": [
    {
     "name": "stdout",
     "output_type": "stream",
     "text": [
      "0.857123460498547\n",
      "0.8571234604985472\n",
      "0.857123460498547\n"
     ]
    }
   ],
   "source": [
    "# The Expression we found\n",
    "print(19*np.exp(-2)/3)\n",
    "\n",
    "\n",
    "# Chech result in scipy\n",
    "res = 0\n",
    "for x in range(4):\n",
    "    res += (2.0**x)*np.exp(-2.0)/np.math.factorial(x)\n",
    "    \n",
    "print(res)\n",
    "\n",
    "print(poisson.cdf(3,mu=2))"
   ]
  },
  {
   "cell_type": "markdown",
   "metadata": {},
   "source": [
    "Now let us have an example for the continous case.\n",
    "\n",
    "Let $M \\sim \\mathcal{N}(75,5)$ (that is normally distributed with mean 75 and variance 5). Here $M$ can model the score you will get on you exam.\n",
    "\n",
    "A $\\mathcal{N}(75,5)$ looks like this."
   ]
  },
  {
   "cell_type": "code",
   "execution_count": 31,
   "metadata": {},
   "outputs": [
    {
     "data": {
      "image/png": "[encoded data removed]",
      "text/plain": [
       "<Figure size 432x288 with 1 Axes>"
      ]
     },
     "metadata": {},
     "output_type": "display_data"
    }
   ],
   "source": [
    "from scipy.stats import norm\n",
    "import matplotlib.pyplot as plt\n",
    "x=np.linspace(0,100,1000)\n",
    "f = norm.pdf(x,loc=75,scale = np.sqrt(5))\n",
    "plt.plot(x,f)\n",
    "plt.show()"
   ]
  },
  {
   "cell_type": "markdown",
   "metadata": {},
   "source": [
    "Recall, that because this is a continous RV we can't talk about probabilities at a single point. However, one can ask what is the probability one would get a score of 80 or higher."
   ]
  }
 ],
 "metadata": {
  "kernelspec": {
   "display_name": "Python 3",
   "language": "python",
   "name": "python3"
  },
  "language_info": {
   "codemirror_mode": {
    "name": "ipython",
    "version": 3
   },
   "file_extension": ".py",
   "mimetype": "text/x-python",
   "name": "python",
   "nbconvert_exporter": "python",
   "pygments_lexer": "ipython3",
   "version": "3.6.5"
  }
 },
 "nbformat": 4,
 "nbformat_minor": 2
}
