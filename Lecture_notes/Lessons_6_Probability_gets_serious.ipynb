{
 "cells": [
  {
   "cell_type": "markdown",
   "metadata": {},
   "source": [
    "# Probability get serious"
   ]
  },
  {
   "cell_type": "markdown",
   "metadata": {},
   "source": [
    "## Contents\n",
    "\n",
    "* [Cumulative distribution function](#cdf)\n",
    "* [Ninja training 6](#njt6) "
   ]
  },
  {
   "cell_type": "markdown",
   "metadata": {},
   "source": [
    "## Cumulative distribution function <a name=cdf></a>"
   ]
  },
  {
   "cell_type": "markdown",
   "metadata": {},
   "source": [
    "Cumulative distribution function (CDF) of a RV $X$ evaluated at $x$, is the probability that $X$ will take a value less than or equal to $x$. \n",
    "\n",
    "\n",
    "$$F_X(x) = \\mathbb{P}(X \\leq x)$$"
   ]
  },
  {
   "cell_type": "markdown",
   "metadata": {},
   "source": [
    "First let us consider the discrete case. Consider the possion distribution with pmf and intensity $\\lambda$,\n",
    "\n",
    "$$p_X(x) = \\frac{\\lambda^x e^{-\\lambda}}{x!}$$\n",
    "\n",
    "The possion distrubution is used to model the number of observation one sees in a interval of time or space."
   ]
  },
  {
   "cell_type": "markdown",
   "metadata": {},
   "source": [
    "For example, let $X$ be the number of cars observed between some time interval $\\mathcal{T}$. Then may have a probability mass function,\n",
    "\n",
    "$$p_X(x) = \\frac{2^x e^{-2}}{x!}.$$ \n",
    "\n",
    "This a possion distribution with rate 2."
   ]
  },
  {
   "cell_type": "markdown",
   "metadata": {},
   "source": [
    "I have two question;\n",
    "1. What is the probability one observes **exactly 3** cars in $\\mathcal{T}$.\n",
    "2. What is the probability one observes **at most 3** cars in $\\mathcal{T}$."
   ]
  },
  {
   "cell_type": "markdown",
   "metadata": {},
   "source": [
    "The first question ok. It was covered in lesson three. We just need to evaluate the pmf at $x = 3$.\n",
    "$$P_X(3) = \\frac{2^3 e^{-2}}{3!} = \\frac{8 e^{-2}}{6} = \\frac{4 e^{-2}}{3}$$"
   ]
  },
  {
   "cell_type": "markdown",
   "metadata": {},
   "source": [
    "We can check using python."
   ]
  },
  {
   "cell_type": "code",
   "execution_count": 2,
   "metadata": {},
   "outputs": [
    {
     "name": "stdout",
     "output_type": "stream",
     "text": [
      "0.1804470443154836\n"
     ]
    },
    {
     "data": {
      "text/plain": [
       "0.18044704431548356"
      ]
     },
     "execution_count": 2,
     "metadata": {},
     "output_type": "execute_result"
    }
   ],
   "source": [
    "import numpy as np\n",
    "print(4.0*np.exp(-2.0)/3.0)\n",
    "\n",
    "\n",
    "from scipy.stats import poisson\n",
    "poisson.pmf(3,mu=2)"
   ]
  },
  {
   "cell_type": "markdown",
   "metadata": {},
   "source": [
    "For the second quantity we need to find this quantity\n",
    "\n",
    "$$F_X(3) = \\mathbb{P}(X \\leq 3)$$"
   ]
  },
  {
   "cell_type": "markdown",
   "metadata": {},
   "source": [
    "which is \n",
    "$$\\mathbb{P}(X=0) +\\mathbb{P}(X=1) + \\mathbb{P}(X=2) + \\mathbb{P}(X=3) $$"
   ]
  },
  {
   "cell_type": "markdown",
   "metadata": {},
   "source": [
    "evaluating this we get \n",
    "\n",
    "$$ e^{-2} +2 e^{-2}+ 2 e^{-2}+\\frac{4 e^{-2}}{3} = \\frac{19 e^{-2}}{3}$$"
   ]
  },
  {
   "cell_type": "markdown",
   "metadata": {},
   "source": [
    "We can check using python."
   ]
  },
  {
   "cell_type": "code",
   "execution_count": 3,
   "metadata": {},
   "outputs": [
    {
     "name": "stdout",
     "output_type": "stream",
     "text": [
      "0.857123460498547\n",
      "0.8571234604985472\n",
      "0.857123460498547\n"
     ]
    }
   ],
   "source": [
    "# The Expression we found\n",
    "print(19*np.exp(-2)/3)\n",
    "\n",
    "\n",
    "# Chech result in scipy\n",
    "res = 0\n",
    "for x in range(4):\n",
    "    res += (2.0**x)*np.exp(-2.0)/np.math.factorial(x)\n",
    "    \n",
    "print(res)\n",
    "\n",
    "print(poisson.cdf(3,mu=2))"
   ]
  },
  {
   "cell_type": "markdown",
   "metadata": {},
   "source": [
    "Now let us have an example for the continous case.\n",
    "\n",
    "Let $M \\sim \\mathcal{N}(75,20)$ (that is normally distributed with mean 75 and variance 20). Here $M$ can model the score you will get on you exam.\n",
    "\n",
    "A $\\mathcal{N}(75,20)$ looks like this."
   ]
  },
  {
   "cell_type": "code",
   "execution_count": 19,
   "metadata": {},
   "outputs": [
    {
     "data": {
      "image/png": "[encoded data removed]",
      "text/plain": [
       "<Figure size 432x288 with 1 Axes>"
      ]
     },
     "metadata": {},
     "output_type": "display_data"
    }
   ],
   "source": [
    "from scipy.stats import norm\n",
    "import matplotlib.pyplot as plt\n",
    "x=np.linspace(40,100,1000)\n",
    "f = norm.pdf(x,loc=75,scale = np.sqrt(20))\n",
    "plt.plot(x,f)\n",
    "plt.show()"
   ]
  },
  {
   "cell_type": "markdown",
   "metadata": {},
   "source": [
    "Recall, that because this is a continous RV we can't talk about probabilities at a single point. However, one can ask what is the probability one would get a score of 80 or higher.\n",
    "\n",
    "Visually we are trying to find this probability."
   ]
  },
  {
   "cell_type": "code",
   "execution_count": 21,
   "metadata": {},
   "outputs": [
    {
     "data": {
      "image/png": "[encoded data removed]",
      "text/plain": [
       "<Figure size 432x288 with 1 Axes>"
      ]
     },
     "metadata": {},
     "output_type": "display_data"
    }
   ],
   "source": [
    "x_fill=np.linspace(80,100,1000)\n",
    "f_fill = norm.pdf(x_fill,loc=75,scale = np.sqrt(20))\n",
    "plt.plot(x,f)\n",
    "plt.fill_between(x_fill,f_fill)\n",
    "plt.show()"
   ]
  },
  {
   "cell_type": "markdown",
   "metadata": {},
   "source": [
    "Mathematically we are trying to find $\\mathbb{P}(X \\geq 80)$."
   ]
  },
  {
   "cell_type": "markdown",
   "metadata": {},
   "source": [
    "But,"
   ]
  },
  {
   "cell_type": "markdown",
   "metadata": {},
   "source": [
    "$\\mathbb{P}(X \\geq 80) = 1 - \\mathbb{P}(X < 80) = 1 - F_X(80)$"
   ]
  },
  {
   "cell_type": "markdown",
   "metadata": {},
   "source": [
    "Now the question is 'what is $F_X(80)$?'.\n",
    "\n",
    "A $\\mathcal{N}(\\mu,\\sigma^2)$ has the following density.\n",
    "\n",
    "$$\\frac{1}{\\sqrt{2\\pi \\sigma^2}}e^{ - \\left(\\frac{x-\\mu}{2\\sigma^2}\\right)}$$"
   ]
  },
  {
   "cell_type": "markdown",
   "metadata": {},
   "source": [
    "Thus for our case,\n",
    "\n",
    "$$ f_X(x) = \\frac{1}{\\sqrt{40\\pi}}e^{ - \\left(\\frac{x-75}{40}\\right)} $$"
   ]
  },
  {
   "cell_type": "markdown",
   "metadata": {},
   "source": [
    "And so \n",
    "\n",
    "$$F_X(x) = \\int_{-\\infty}^{x}  \\frac{1}{\\sqrt{40\\pi}}e^{ - \\left(\\frac{y-75}{40}\\right)} dy $$"
   ]
  },
  {
   "cell_type": "markdown",
   "metadata": {},
   "source": [
    "However, after studying a few years of intense calculas one finds that this integral cannot be evaluated analytically.\n",
    "\n",
    "So to find to to find $F_X(80)$ just use scipy (It use numerical methods far beyond the scope of this course). "
   ]
  },
  {
   "cell_type": "code",
   "execution_count": 28,
   "metadata": {},
   "outputs": [
    {
     "data": {
      "text/plain": [
       "0.8682237613585136"
      ]
     },
     "execution_count": 28,
     "metadata": {},
     "output_type": "execute_result"
    }
   ],
   "source": [
    "norm.cdf(80,loc = 75,scale = np.sqrt(20))"
   ]
  },
  {
   "cell_type": "code",
   "execution_count": 29,
   "metadata": {},
   "outputs": [
    {
     "name": "stdout",
     "output_type": "stream",
     "text": [
      "The probability one would get a score of 80 or higher is 0.13177623864148635\n"
     ]
    }
   ],
   "source": [
    "print(f'The probability one would get a score of 80 or higher is {1-norm.cdf(80,loc = 75,scale = np.sqrt(20))}')"
   ]
  },
  {
   "cell_type": "markdown",
   "metadata": {},
   "source": [
    "## Ninja training 6 <a name=\"njt6\"></a>"
   ]
  },
  {
   "cell_type": "markdown",
   "metadata": {},
   "source": [
    "**Task 1:** Back in the day we did not have scipy to compute non-standard normal probabilities. People used z-tables. A Z-table displays the probabilities of a standard normal distribution. Recall a standard normal is a normal with a mean 0 and a variance 1. \n",
    "\n",
    "Let's say $X$ is a non-standard normal with mean $\\mu$ and variance $\\sigma^2$. We convert $X$ into a standard normal by applying the following transformation, \n",
    "\n",
    "$Z = \\frac{X - \\mu}{\\sigma}.$\n"
   ]
  },
  {
   "cell_type": "markdown",
   "metadata": {},
   "source": [
    "Now let $Y \\sim \\mathcal{N}(3,1.5)$. Find $\\mathbb{P}(Y \\leq 4)$ by transforming $Y$ into a standard normal. Confirm your answer with scipy and a Z-table. You may have to google 'how to use a Z-table'."
   ]
  },
  {
   "cell_type": "code",
   "execution_count": null,
   "metadata": {},
   "outputs": [],
   "source": []
  }
 ],
 "metadata": {
  "kernelspec": {
   "display_name": "Python 3",
   "language": "python",
   "name": "python3"
  },
  "language_info": {
   "codemirror_mode": {
    "name": "ipython",
    "version": 3
   },
   "file_extension": ".py",
   "mimetype": "text/x-python",
   "name": "python",
   "nbconvert_exporter": "python",
   "pygments_lexer": "ipython3",
   "version": "3.6.5"
  }
 },
 "nbformat": 4,
 "nbformat_minor": 2
}
