{
 "cells": [
  {
   "cell_type": "markdown",
   "metadata": {},
   "source": [
    "# What to expect "
   ]
  },
  {
   "cell_type": "markdown",
   "metadata": {},
   "source": [
    "## Contents\n",
    "\n",
    "* [Expectation ](#expectation)\n",
    "* [Ninja training 7](#njt7) "
   ]
  },
  {
   "cell_type": "markdown",
   "metadata": {},
   "source": [
    "## Expectation <a name=expectation></a>\n",
    "\n",
    "Often one would like to summarise the a probabilty distribution with one number. This is often the expectation. Expectation measures the center of mass of a distribution.\n"
   ]
  },
  {
   "cell_type": "markdown",
   "metadata": {},
   "source": [
    "Here is a visual for discrete distrubtion (binomial).\n",
    "\n"
   ]
  },
  {
   "cell_type": "code",
   "execution_count": 12,
   "metadata": {},
   "outputs": [
    {
     "data": {
      "image/png": "[encoded data removed]",
      "text/plain": [
       "<Figure size 432x288 with 1 Axes>"
      ]
     },
     "metadata": {
      "needs_background": "light"
     },
     "output_type": "display_data"
    }
   ],
   "source": [
    "from scipy.stats import binom\n",
    "import numpy as np\n",
    "import matplotlib.pyplot as plt\n",
    "\n",
    "n =10\n",
    "p = 1/2\n",
    "\n",
    "k = np.arange(n+1)\n",
    "pmf = binom.pmf(k,n,p)\n",
    "\n",
    "mean = n*p\n",
    "\n",
    "plt.plot(k,pmf,'bo')\n",
    "plt.vlines(mean,0,max(pmf),label='Expectation')\n",
    "plt.xlabel('x')\n",
    "plt.ylabel('pmf')\n",
    "plt.legend()\n",
    "plt.show()"
   ]
  },
  {
   "cell_type": "markdown",
   "metadata": {},
   "source": [
    "Here is a visual for a continuous distrubtion (exponential)."
   ]
  },
  {
   "cell_type": "code",
   "execution_count": 11,
   "metadata": {},
   "outputs": [
    {
     "data": {
      "image/png": "[encoded data removed]",
      "text/plain": [
       "<Figure size 432x288 with 1 Axes>"
      ]
     },
     "metadata": {
      "needs_background": "light"
     },
     "output_type": "display_data"
    }
   ],
   "source": [
    "from scipy.stats import expon\n",
    "\n",
    "lmb = 2\n",
    "scale = 1/lmb\n",
    "\n",
    "x = np.linspace(0,3,1000)\n",
    "pdf = expon.pdf(x,scale = scale)\n",
    "\n",
    "\n",
    "plt.plot(x,pdf)\n",
    "plt.vlines(scale,0,max(pdf),label='Expectation')\n",
    "plt.xlabel('x')\n",
    "plt.ylabel('pdf')\n",
    "plt.legend()\n",
    "plt.show()"
   ]
  },
  {
   "cell_type": "markdown",
   "metadata": {},
   "source": [
    "For a discrete RV $N$,\n",
    "\n",
    "$$\\mathbb{E}N = \\sum_{n}n\\mathbb{P}(N = n). $$"
   ]
  },
  {
   "cell_type": "markdown",
   "metadata": {},
   "source": [
    "For a continuous RV $X$,\n",
    "\n",
    "\n",
    "$$\\int_{-\\infty}^{\\infty} xf_X(x)dx.$$"
   ]
  },
  {
   "cell_type": "markdown",
   "metadata": {},
   "source": [
    "MOST probability distributions have an expectation."
   ]
  },
  {
   "cell_type": "markdown",
   "metadata": {},
   "source": [
    "Let's have an example. \n",
    "\n",
    "Find the expection of $K \\sim Bin(n,p)$\n",
    "\n",
    "Solution:\n",
    "\n",
    "Here we are going to find an exact form so the proof will be pretty involved. You can skip to the end if you get totally lost.\n",
    "\n",
    "$$. $$"
   ]
  },
  {
   "cell_type": "code",
   "execution_count": 33,
   "metadata": {},
   "outputs": [
    {
     "data": {
      "text/latex": [
       "\\begin{align}\n",
       "\\mathbb{E}N &= \\sum_{k = 0}^{n}x\\mathbb{P}(K = k)\\\\\n",
       "&= \\sum_{k=0}^{n} k \\left( \\begin{array}{l}{n} \\\\ {k}\\end{array}\\right) p^{k} q^{n-k} \\tag{$p = 1-q$}\\\\\n",
       "&= \\sum_{k=1}^{n} k \\left( \\begin{array}{l}{n} \\\\ {k}\\end{array}\\right) p^{k} q^{n-k} \\\\\n",
       "&=\\sum_{k=1}^{n} n \\left( \\begin{array}{l}{n-1} \\\\ {k-1}\\end{array}\\right) p^{k} q^{n-k} \\tag{since $k \\left( \\begin{array}{l}{n} \\\\ {k}\\end{array}\\right)=n \\left( \\begin{array}{l}{n-1} \\\\ {k-1}\\end{array}\\right)$}\\\\\n",
       "&=np\\sum_{k=1}^{n}  \\left( \\begin{array}{l}{n-1} \\\\ {k-1}\\end{array}\\right) p^{k-1} q^{n-(k-1)} q^{-1}\\\\\n",
       "&=np\\sum_{m=0}^{n-1}  \\left( \\begin{array}{l}{n-1} \\\\ {m}\\end{array}\\right) p^{m} q^{n-m} q^{-1}\\\\\n",
       "&=np\\sum_{m=0}^{n-1}  \\left( \\begin{array}{l}{n-1} \\\\ {m}\\end{array}\\right) p^{m} q^{(n-1)-m}\\\\\n",
       "&=np\n",
       "\\end{align}\n"
      ],
      "text/plain": [
       "<IPython.core.display.Latex object>"
      ]
     },
     "metadata": {},
     "output_type": "display_data"
    }
   ],
   "source": [
    "%%latex\n",
    "\\begin{align}\n",
    "\\mathbb{E}N &= \\sum_{k = 0}^{n}x\\mathbb{P}(K = k)\\\\\n",
    "&= \\sum_{k=0}^{n} k \\left( \\begin{array}{l}{n} \\\\ {k}\\end{array}\\right) p^{k} q^{n-k} \\tag{$p = 1-q$}\\\\\n",
    "&= \\sum_{k=1}^{n} k \\left( \\begin{array}{l}{n} \\\\ {k}\\end{array}\\right) p^{k} q^{n-k} \\\\\n",
    "&=\\sum_{k=1}^{n} n \\left( \\begin{array}{l}{n-1} \\\\ {k-1}\\end{array}\\right) p^{k} q^{n-k} \\tag{since $k \\left( \\begin{array}{l}{n} \\\\ {k}\\end{array}\\right)=n \\left( \\begin{array}{l}{n-1} \\\\ {k-1}\\end{array}\\right)$}\\\\\n",
    "&=np\\sum_{k=1}^{n}  \\left( \\begin{array}{l}{n-1} \\\\ {k-1}\\end{array}\\right) p^{k-1} q^{n-(k-1)} q^{-1}\\\\\n",
    "&=np\\sum_{m=0}^{n-1}  \\left( \\begin{array}{l}{n-1} \\\\ {m}\\end{array}\\right) p^{m} q^{n-m} q^{-1}\\\\\n",
    "&=np\\sum_{m=0}^{n-1}  \\left( \\begin{array}{l}{n-1} \\\\ {m}\\end{array}\\right) p^{m} q^{(n-1)-m}\\\\\n",
    "&=np\n",
    "\\end{align}"
   ]
  },
  {
   "cell_type": "markdown",
   "metadata": {},
   "source": [
    "Great!!! Now let's have an example for the continuous case. Again there may be one or two steps in the you might not understand."
   ]
  },
  {
   "cell_type": "markdown",
   "metadata": {},
   "source": [
    "Let $X \\sim exp(\\lambda)$. Find the $\\mathbb{E}X$"
   ]
  },
  {
   "cell_type": "markdown",
   "metadata": {},
   "source": [
    "%%latex\n",
    "\\begin{align}\n",
    "\\mathbb{E}X&=\\int_{0}^{\\infty} x \\lambda e^{-\\lambda x} d x\\\\\n",
    "&= \\left[-x e^{-\\lambda x}\\right]_{0}^{\\infty}+\\int_{0}^{\\infty} e^{-\\lambda x} d x\\\\\n",
    "&= (0-0)+\\left[-\\frac{1}{\\lambda} e^{-\\lambda x}\\right]_{0}^{\\infty}\\\\\n",
    "&= 0+\\frac{1}{\\lambda}\\\\\n",
    "&= \\frac{1}{\\lambda}\n",
    "\\end{align}"
   ]
  },
  {
   "cell_type": "markdown",
   "metadata": {},
   "source": [
    "Clearly, some of these calculations are very advanced. It is common to just look up the expectation in a book or on the internet."
   ]
  },
  {
   "cell_type": "markdown",
   "metadata": {},
   "source": [
    "## Ninja training 7 <a name=njt7></a>"
   ]
  },
  {
   "cell_type": "markdown",
   "metadata": {},
   "source": [
    "The variance is another way to summarize a RV. It measures how far a set of samples are from their expected value."
   ]
  },
  {
   "cell_type": "markdown",
   "metadata": {},
   "source": [
    "**Task 1:** \n",
    "* Plot a normal density with mean 0 and low variance (just choose a small number).\n",
    "* Plot a normal density with mean 0 and high variance (just choose a big number)."
   ]
  },
  {
   "cell_type": "markdown",
   "metadata": {},
   "source": [
    "**Task 2:**\n",
    "\n",
    "The variance is given by this formula,\n",
    "\n",
    "$$\\operatorname{Var}(X)=\\mathbb{E}\\left[(X-\\mu)^{2}\\right].$$\n",
    "\n",
    "However, after some calculation you can show that\n",
    "\n",
    "$$ \\operatorname{Var}(X)=\\mathbb{E}\\left[X^{2}\\right]-\\mathbb{E}[X]^{2}.$$\n",
    "\n",
    "Let $X \\sim bernoulli(p)$ that is\n",
    "\n",
    "$$ \\mathbb{P}(X = x)=\\left\\{\\begin{array}{ll}{1-p} & {\\text { if } x=0} \\\\ {p} & {\\text { if } x=1}\\end{array}\\right.$$\n",
    "\n",
    "Find $\\operatorname{Var}(X)$."
   ]
  },
  {
   "cell_type": "code",
   "execution_count": null,
   "metadata": {},
   "outputs": [],
   "source": []
  }
 ],
 "metadata": {
  "kernelspec": {
   "display_name": "Python 3",
   "language": "python",
   "name": "python3"
  },
  "language_info": {
   "codemirror_mode": {
    "name": "ipython",
    "version": 3
   },
   "file_extension": ".py",
   "mimetype": "text/x-python",
   "name": "python",
   "nbconvert_exporter": "python",
   "pygments_lexer": "ipython3",
   "version": "3.7.3"
  }
 },
 "nbformat": 4,
 "nbformat_minor": 2
}
