{
 "cells": [
  {
   "cell_type": "markdown",
   "metadata": {},
   "source": [
    "# Rolling a Dice\n",
    "\n",
    "This first lecture is a gentle introduction. Here you should get a feel for my teaching style. I hope you enjoy. "
   ]
  },
  {
   "cell_type": "markdown",
   "metadata": {},
   "source": [
    "## Mathematical concept\n",
    "\n"
   ]
  },
  {
   "cell_type": "markdown",
   "metadata": {},
   "source": [
    "We want to investiage the mathematics behind rolling a dice.\n",
    "\n",
    "Assume that we have a fair dice (each side has an equal chance of being rolled). \n",
    "\n",
    "Let $X$ be random variable that represents the outcome of the dice roll (ie the numbers 1 to 6 ).\n",
    "\n",
    "Mathematically we write,\n",
    "\n",
    "\n"
   ]
  },
  {
   "cell_type": "markdown",
   "metadata": {},
   "source": [
    "\n",
    "$$ X = \\begin{cases}1 \\quad \\text{wp} \\quad \\frac{1}{6}\\\\\n",
    "                    2 \\quad \\text{wp} \\quad \\frac{1}{6}\\\\\n",
    "                    3\\quad \\text{wp} \\quad \\frac{1}{6}\\\\\n",
    "                    4\\quad \\text{wp} \\quad \\frac{1}{6}\\\\\n",
    "                    5 \\quad \\text{wp} \\quad \\frac{1}{6}\\\\\n",
    "                    6 \\quad \\text{wp} \\quad \\frac{1}{6}\\\\\n",
    "    \\end{cases}$$"
   ]
  },
  {
   "cell_type": "markdown",
   "metadata": {},
   "source": [
    "In English this translates to"
   ]
  },
  {
   "cell_type": "markdown",
   "metadata": {},
   "source": [
    "$$ X \\quad\\text{equals} \\quad \\begin{cases}\n",
    "                    \\text{one}\\quad \\text{with probability} \\quad \\text{one-sixth}\\\\\n",
    "                    \\text{two}\\quad \\text{with probability} \\quad \\text{one-sixth}\\\\\n",
    "                    \\text{three}\\quad \\text{with probability} \\quad \\text{one-sixth}\\\\\n",
    "                    \\text{four}\\quad \\text{with probability} \\quad \\text{one-sixth}\\\\\n",
    "                    \\text{five}\\quad \\text{with probability} \\quad \\text{one-sixth}\\\\\n",
    "                    \\text{six}\\quad \\text{with probability} \\quad \\text{one-sixth}\\\\\n",
    "    \\end{cases}$$"
   ]
  },
  {
   "cell_type": "markdown",
   "metadata": {},
   "source": [
    "Below is a graphical reprentation of the above distribution. Don't worry about understang the code we will learn how to do this later in the course."
   ]
  },
  {
   "cell_type": "code",
   "execution_count": 2,
   "metadata": {},
   "outputs": [
    {
     "data": {
      "image/png": "[encoded data removed]",
      "text/plain": [
       "<Figure size 432x288 with 1 Axes>"
      ]
     },
     "metadata": {},
     "output_type": "display_data"
    }
   ],
   "source": [
    "#This is the code that produces the graph below. Don't worry about it!!!\n",
    "\n",
    "import numpy as np\n",
    "import matplotlib.pyplot as plt\n",
    "%matplotlib inline\n",
    "\n",
    "x = np.arange(1,7)\n",
    "prob = np.ones(6)/6\n",
    "\n",
    "\n",
    "plt.plot(x,prob,'*',markersize = 10)\n",
    "plt.xlabel('Possible X values')\n",
    "plt.ylabel('Probabilities')\n",
    "plt.show()\n"
   ]
  },
  {
   "cell_type": "markdown",
   "metadata": {},
   "source": [
    "The first mathematical concept we are going to introduce is the expectation $\\mathbb{E}$. Expectations will be covered more formally in later parts of the course but for now think of it one number that summerises our probability distribution.\n",
    "\n",
    "The idea is to add all the outcomes of $X$ weighted be their respective probabilities. "
   ]
  },
  {
   "cell_type": "markdown",
   "metadata": {},
   "source": [
    "$$\\mathbb{E}X = (1)\\frac{1}{6}+ (2)\\frac{1}{6}+(3)\\frac{1}{6}+(4)\\frac{1}{6}+(5)\\frac{1}{6}+(6)\\frac{1}{6} = 3.5$$"
   ]
  },
  {
   "cell_type": "markdown",
   "metadata": {},
   "source": [
    "If we let $n$ denote the number of possible outcomes, we can write the above as"
   ]
  },
  {
   "cell_type": "markdown",
   "metadata": {},
   "source": [
    "$$\\mathbb{E}X = \\sum_{i=1}^{n}x_i\\mathbb{P}(X = x_i)$$"
   ]
  },
  {
   "cell_type": "markdown",
   "metadata": {},
   "source": [
    "this translates to\n",
    "\n",
    "\"The expected value of $X$ equals the sum from $i = 1$ to $n$ of $x_i$ multiplied by the probability that $X$ takes value $x_i$\"\n",
    "\n",
    "In other words,\n",
    "1. multiply the each X value with its probablity,\n",
    "2. add them all up."
   ]
  },
  {
   "cell_type": "markdown",
   "metadata": {},
   "source": [
    "The result $\\mathbb{E}X = 3.5$ the center value of our distribution is $3.5$. This related to the mean.\n",
    "\n",
    "Recall the definiton of the mean (one type of average)\n",
    "\n",
    "$$\\text{sample Average} = \\frac{1}{n}\\sum_{i=1}^{n}\\text{sample}_i$$"
   ]
  },
  {
   "cell_type": "markdown",
   "metadata": {},
   "source": [
    "## Simulation"
   ]
  },
  {
   "cell_type": "markdown",
   "metadata": {},
   "source": [
    "We are going to test $\\mathbb{E}X = 3.5$ by rolling dice many times on a computer.\n",
    "\n",
    "The code below rolls a dice once and prints out the result."
   ]
  },
  {
   "cell_type": "code",
   "execution_count": 37,
   "metadata": {},
   "outputs": [
    {
     "data": {
      "text/plain": [
       "4"
      ]
     },
     "execution_count": 37,
     "metadata": {},
     "output_type": "execute_result"
    }
   ],
   "source": [
    "np.random.seed(69) #Set a seed so we get the same random numbers everytime.\n",
    "\n",
    "np.random.randint(1,7) # produce uniform random a number between 1 and 6. This a dice"
   ]
  },
  {
   "cell_type": "markdown",
   "metadata": {},
   "source": [
    "Great! Now lets roll the dice many times, say 50 times. "
   ]
  },
  {
   "cell_type": "code",
   "execution_count": 38,
   "metadata": {},
   "outputs": [
    {
     "data": {
      "text/plain": [
       "array([4, 2, 4, 3, 5, 2, 2, 1, 2, 1, 1, 5, 6, 3, 5, 4, 6, 4, 1, 1, 3, 4,\n",
       "       1, 1, 2, 3, 4, 5, 4, 4, 6, 2, 6, 5, 5, 4, 6, 1, 6, 1, 6, 3, 4, 3,\n",
       "       4, 3, 4, 2, 3, 6])"
      ]
     },
     "execution_count": 38,
     "metadata": {},
     "output_type": "execute_result"
    }
   ],
   "source": [
    "np.random.seed(69)\n",
    "dice_rolls = np.random.randint(1,7,size=50)\n",
    "dice_rolls"
   ]
  },
  {
   "cell_type": "markdown",
   "metadata": {},
   "source": [
    "Great! However to test our results we need many more dice rolls, say 50000 times."
   ]
  },
  {
   "cell_type": "code",
   "execution_count": 39,
   "metadata": {},
   "outputs": [
    {
     "data": {
      "text/plain": [
       "array([4, 2, 4, ..., 6, 6, 2])"
      ]
     },
     "execution_count": 39,
     "metadata": {},
     "output_type": "execute_result"
    }
   ],
   "source": [
    "np.random.seed(69)\n",
    "many_dice_rolls = np.random.randint(1,7,size=50000)\n",
    "many_dice_rolls"
   ]
  },
  {
   "cell_type": "markdown",
   "metadata": {},
   "source": [
    "There are two (simple) ways to find the mean\n",
    "1. Sum the samples the  then divide by the same size $n$.\n",
    "2. use the np.mean() function."
   ]
  },
  {
   "cell_type": "code",
   "execution_count": 34,
   "metadata": {},
   "outputs": [],
   "source": [
    "# Sample size\n",
    "n=len(many_dice_rolls)"
   ]
  },
  {
   "cell_type": "code",
   "execution_count": 35,
   "metadata": {},
   "outputs": [
    {
     "data": {
      "text/plain": [
       "3.5036"
      ]
     },
     "execution_count": 35,
     "metadata": {},
     "output_type": "execute_result"
    }
   ],
   "source": [
    "# Method 1\n",
    "mean1 = np.sum(many_dice_rolls)/n\n",
    "mean1"
   ]
  },
  {
   "cell_type": "code",
   "execution_count": 36,
   "metadata": {},
   "outputs": [
    {
     "data": {
      "text/plain": [
       "3.5036"
      ]
     },
     "execution_count": 36,
     "metadata": {},
     "output_type": "execute_result"
    }
   ],
   "source": [
    "# Method 2\n",
    "mean2 = np.mean(many_dice_rolls)\n",
    "mean2"
   ]
  },
  {
   "cell_type": "code",
   "execution_count": null,
   "metadata": {},
   "outputs": [],
   "source": []
  }
 ],
 "metadata": {
  "kernelspec": {
   "display_name": "Python 3",
   "language": "python",
   "name": "python3"
  },
  "language_info": {
   "codemirror_mode": {
    "name": "ipython",
    "version": 3
   },
   "file_extension": ".py",
   "mimetype": "text/x-python",
   "name": "python",
   "nbconvert_exporter": "python",
   "pygments_lexer": "ipython3",
   "version": "3.7.3"
  }
 },
 "nbformat": 4,
 "nbformat_minor": 2
}
